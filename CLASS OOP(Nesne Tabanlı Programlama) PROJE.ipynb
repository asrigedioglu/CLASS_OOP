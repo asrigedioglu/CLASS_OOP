{
 "cells": [
  {
   "cell_type": "markdown",
   "id": "7bc1d7af",
   "metadata": {},
   "source": [
    "# Python Personel Yönetici Class Örneği\n",
    "  Programda iki tane sınıf(class) tanımladım. Tanımladığım Personel sınıfı süper sınıftır. Personel sınıfında yazdığım fonksiyonları, değişken tanımlamaları ve bilgilerin yazdırılması tüm çalışanlar için ortaktır. Yönetici sınıf ise personel sınıfının fonksiyonlarını ve değişkenlerini kullanılabilen sınıftır. Burada ki yönetici sınıfının ayrılması sebebi: maas ve yönetim becerisi ile ilgilidir. Personel sınıfı(Super sınıf) sayesinde diğer kadrolara göre de sınıflar yaratılabilir.\n",
    "\n",
    " \n",
    "\n",
    "Personel Sınıfındaki Fonksiyonlar(Numaralandırılmış)\n",
    "\n",
    "\n",
    "1 – Fonksiyon nesne oluştururken  isim, maas, yetenek, rutbe değerlerinin alınmasını sağlıyor.\n",
    "\n",
    "2 – Çalış fonksiyonu çağrılması ile personelin gün sayısı bir artıyor ve çalıştığı söyleniyor.\n",
    "\n",
    "3 – Terfi fonksiyonu çağrılması ile personele atanan maaş değeri artıyor.(200)\n",
    "\n",
    "4 – Bilgileri göster fonksiyonu çağrılması ile ekrana isim, yetenek, maaş, toplam çalışılan gün sayısı, personelin rütbesi yazılıyor."
   ]
  },
  {
   "cell_type": "code",
   "execution_count": 6,
   "id": "60505e65",
   "metadata": {},
   "outputs": [],
   "source": [
    "class Personel():\n",
    "    mesai= \"9-18.00\"\n",
    "    sirket= \"DOĞUŞ HOLDİNG\"\n",
    "\n",
    "    def __init__(self,isim,maas,yetenek,rutbe):\n",
    "        self.isim=isim\n",
    "        self.maas=maas\n",
    "        self.yetenek=yetenek\n",
    "        self.rutbe=rutbe\n",
    "        self.gun=0\n",
    "        \n",
    "        \n",
    "        \n",
    "    def Calis(self):\n",
    "        self.gun+=1\n",
    "        print(f\"Tebrikler! {self.gun} gün kadar şirketimizde çalışmaktasınız.\")\n",
    "        \n",
    "    def Terfi(self):\n",
    "        self.maas+=200\n",
    "        print(f\"Tebrikler! {self.maas} olan güncel maaşınıza 200 TL zam yapılmıştır.\")\n",
    "        \n",
    "    def BilgiGoster(self):\n",
    "        print(\"--------\")\n",
    "        print(\"PERSONEL BİLGİ KARTI\")\n",
    "        print(f\"Personel : {self.isim}\")\n",
    "        print(f\"Yetenek: {self.yetenek}\")\n",
    "        print(f\"Maaş : {self.maas}\")\n",
    "        print(f\"Toplam Gün : {self.gun}\")\n",
    "        print(f\"Personel Rütbesi : {self.rutbe}\")\n",
    "    "
   ]
  },
  {
   "cell_type": "code",
   "execution_count": 7,
   "id": "ef6bfb8a",
   "metadata": {},
   "outputs": [
    {
     "name": "stdout",
     "output_type": "stream",
     "text": [
      "Tebrikler! 1 gün kadar şirketimizde çalışmaktasınız.\n",
      "Tebrikler! 25200 olan güncel maaşınıza 200 TL zam yapılmıştır.\n",
      "--------\n",
      "PERSONEL BİLGİ KARTI\n",
      "Personel : ASRI\n",
      "Yetenek: phyton\n",
      "Maaş : 25200\n",
      "Toplam Gün : 1\n",
      "Personel Rütbesi : VERİ ANALİSTİ\n"
     ]
    }
   ],
   "source": [
    "asrı=Personel(\"ASRI\",25000,\"phyton\",\"VERİ ANALİSTİ\")\n",
    "asrı.Calis()\n",
    "asrı.Terfi()\n",
    "asrı.BilgiGoster()"
   ]
  },
  {
   "cell_type": "markdown",
   "id": "e6740a8e",
   "metadata": {},
   "source": [
    "# Yönetici sınıfının(class) oluşturulması\n",
    " Yonetici sınıfı (Personel) sınıfının tüm tanımlamalarını ve fonksiyonlarını kullanabiliyor. Yönetici sınıfı maaş ve yönetim beceresi gibi farklılıklar nedeniyle özelleştirilmesi için gerekli\n",
    "\n",
    "super() fonksiyonu bir üst sınıfta bulunan tanımlamalara yenisinin eklenmesini sağlıyor.\n",
    "\n",
    "1 – Fonksiyon Personel sınıfından farklı olarak 523 tl maaş artırımı yapıyor.\n",
    "\n",
    "2 – Personel isim, maas, yetenek, rutbe ve yonetimBeceresini dışarıdan almayı sağlıyor. super() fonksiyonu ile isim, maas, yetenek, rutbe, tanımlamalarını personel sınıfından alıyor.\n",
    "\n",
    "3 – super() fonksiyonu ile Personel sınıfındaki bilgileriGoster fonksiyonunu kullanıp  ek olarak da yönetim beceresini gösteriyor.\n",
    "\n",
    "4 – super() fonksiyonu ile Personel sınıfındaki calıs fonksiyonu çağırıyor ve yönetim beceresini 0.5 olarak artırıyor."
   ]
  },
  {
   "cell_type": "code",
   "execution_count": 17,
   "id": "84bbd0c5",
   "metadata": {},
   "outputs": [],
   "source": [
    "class Yonetici(Personel):\n",
    "    def Terfi(self):\n",
    "        self.maas+=523\n",
    "        return f\"Tebrikler ! Yeni maaşınız {self.maas}\"\n",
    "        \n",
    "    def __init__(self,isim,maas,yetenek,rutbe,yonetimbecerisi):\n",
    "        super().__init__(isim,maas,yetenek,rutbe)\n",
    "        self.yonetimbecerisi=yonetimbecerisi\n",
    "        \n",
    "        #super() fonksiyonu isim maaş yetenk ve rutbe'yi personel'den almaya yarar.\n",
    "        #super() fonksiyonun olduğu yerde self yazılmaz.\n",
    "        \n",
    "    def BilgiGoster(self):\n",
    "        super().BilgiGoster()\n",
    "        print(f\"Yönetim Beceriniz: {self.yonetimbecerisi}\") #0-100 arasında değişen bir rakam\n",
    "        \n",
    "    def Calis(self):\n",
    "        super().Calis()\n",
    "        self.yonetimbecerisi+=0.5\n",
    "        \n",
    "        print(f\"Tebrikler! Yönetim Beceriniz {self.yonetimbecerisi} kadar olmuştur.\")\n",
    "    "
   ]
  },
  {
   "cell_type": "code",
   "execution_count": 18,
   "id": "3745d3b9",
   "metadata": {},
   "outputs": [
    {
     "name": "stdout",
     "output_type": "stream",
     "text": [
      "--------\n",
      "PERSONEL BİLGİ KARTI\n",
      "Personel : Mertkan\n",
      "Yetenek: Java\n",
      "Maaş : 50000\n",
      "Toplam Gün : 0\n",
      "Personel Rütbesi : Müdür\n",
      "Yönetim Beceriniz: 84\n"
     ]
    }
   ],
   "source": [
    "mertkan = Yonetici(\"Mertkan\",50000,\"Java\",\"Müdür\",84)\n",
    "mertkan.BilgiGoster()"
   ]
  },
  {
   "cell_type": "code",
   "execution_count": 19,
   "id": "5fdf5cba",
   "metadata": {},
   "outputs": [
    {
     "name": "stdout",
     "output_type": "stream",
     "text": [
      "Tebrikler! 1 gün kadar şirketimizde çalışmaktasınız.\n",
      "Tebrikler! Yönetim Beceriniz 84.5 kadar olmuştur.\n"
     ]
    }
   ],
   "source": [
    "mertkan.Calis()"
   ]
  },
  {
   "cell_type": "code",
   "execution_count": 20,
   "id": "5d8eac4f",
   "metadata": {},
   "outputs": [
    {
     "data": {
      "text/plain": [
       "'Tebrikler ! Yeni maaşınız 50523'"
      ]
     },
     "execution_count": 20,
     "metadata": {},
     "output_type": "execute_result"
    }
   ],
   "source": [
    "mertkan.Terfi()"
   ]
  },
  {
   "cell_type": "code",
   "execution_count": null,
   "id": "89c5c3ce",
   "metadata": {},
   "outputs": [],
   "source": []
  }
 ],
 "metadata": {
  "kernelspec": {
   "display_name": "Python 3 (ipykernel)",
   "language": "python",
   "name": "python3"
  },
  "language_info": {
   "codemirror_mode": {
    "name": "ipython",
    "version": 3
   },
   "file_extension": ".py",
   "mimetype": "text/x-python",
   "name": "python",
   "nbconvert_exporter": "python",
   "pygments_lexer": "ipython3",
   "version": "3.10.9"
  }
 },
 "nbformat": 4,
 "nbformat_minor": 5
}
